{
 "cells": [
  {
   "cell_type": "markdown",
   "id": "8338c51d",
   "metadata": {},
   "source": [
    "# F23 Week 2 Discussion Section"
   ]
  },
  {
   "cell_type": "markdown",
   "id": "006fb55b",
   "metadata": {},
   "source": [
    "## Goals for this week: list comprehension, defining functions, bug fixing"
   ]
  },
  {
   "cell_type": "markdown",
   "id": "9c9b433d",
   "metadata": {},
   "source": [
    "EX 1: Bug fixing\n",
    "I wrote some amazing code but I keep getting errors! Go through the error messages and find out what they mean, and fix my code so it runs!"
   ]
  },
  {
   "cell_type": "code",
   "execution_count": null,
   "id": "98e3a3ee",
   "metadata": {},
   "outputs": [],
   "source": [
    "def CoolKids(name);\n",
    "    save_name = name\n",
    "    if length(name)=7;\n",
    "        print(\"That's a cool kid!\")\n",
    "    else:\n",
    "        print(\"NOT cool!\")\n",
    "        \n",
    "def ChillKids(name):\n",
    "    if name(0)=='A':\n",
    "        print(\"Chill!\")\n",
    "    if save_name(0)=='A':\n",
    "        print(\"Still chill\")\n",
    "        \n",
    "name = 'Anthony'\n",
    "CoolKids(name)\n",
    "ChillKids(save_name)"
   ]
  },
  {
   "cell_type": "markdown",
   "id": "021d842f",
   "metadata": {},
   "source": [
    "EX 2: List comprehension\n",
    "We will use the list below to explore how we can use lists! Lets do some basic list commands first to understand our list more? Answer the following:\n",
    "\n",
    "How long is the list? Show me using the len() function\n",
    "What is the element at position 0? How long is it?\n",
    "How can I slice my list to only print Sugar, Spice? \n",
    "\n",
    "Spend time on this on your own and then we can discuss as a class"
   ]
  },
  {
   "cell_type": "code",
   "execution_count": null,
   "id": "6bf8fc95",
   "metadata": {},
   "outputs": [],
   "source": [
    "my_list = ['Sugar','Spice','Everything Nice']"
   ]
  },
  {
   "cell_type": "markdown",
   "id": "69022853",
   "metadata": {},
   "source": [
    "EX 2.1: Write a function that prints out each element of the list using element wise indexing"
   ]
  },
  {
   "cell_type": "code",
   "execution_count": null,
   "id": "21e99a6a",
   "metadata": {},
   "outputs": [],
   "source": [
    "def ElementWise(my_list):\n",
    "    #Code here"
   ]
  },
  {
   "cell_type": "markdown",
   "id": "00b849d8",
   "metadata": {},
   "source": [
    "EX 2.2 Write a function that print out each element of the list using index wise indexing"
   ]
  },
  {
   "cell_type": "code",
   "execution_count": null,
   "id": "6b218e32",
   "metadata": {},
   "outputs": [],
   "source": [
    "def IndexWise(my_list):\n",
    "    #Code here"
   ]
  },
  {
   "cell_type": "markdown",
   "id": "881f7dc1",
   "metadata": {},
   "source": [
    "EX 2.3: Add 'and' in between 'Spice' and 'Everything Nice' HINT: We will need to know the index of Spice"
   ]
  },
  {
   "cell_type": "code",
   "execution_count": null,
   "id": "4e6031fd",
   "metadata": {},
   "outputs": [],
   "source": [
    "def AddWord(my_list):\n",
    "    #Code here\n",
    "    return my_list"
   ]
  },
  {
   "cell_type": "markdown",
   "id": "06fc0134",
   "metadata": {},
   "source": [
    "EX 3: Dictionaries! Let's try using the list above as a dictionary!"
   ]
  },
  {
   "cell_type": "code",
   "execution_count": null,
   "id": "c57310e5",
   "metadata": {},
   "outputs": [],
   "source": [
    "thisdict = {'Flavor': 'Sweet', 'Item': 'Sugar'}\n",
    "#This is one way to construct a dictionary. There are many other ways and I suggest you read about them!"
   ]
  },
  {
   "cell_type": "markdown",
   "id": "39e60a11",
   "metadata": {},
   "source": [
    "EX 3.1: Get the flavor of the item in the dictionary"
   ]
  },
  {
   "cell_type": "code",
   "execution_count": null,
   "id": "3f8c4577",
   "metadata": {},
   "outputs": [],
   "source": [
    "flavor = thisdict #Your code here"
   ]
  },
  {
   "cell_type": "markdown",
   "id": "2ea18bb7",
   "metadata": {},
   "source": [
    "EX 3.2: Get the item for the flavor!"
   ]
  },
  {
   "cell_type": "code",
   "execution_count": null,
   "id": "2e99774d",
   "metadata": {},
   "outputs": [],
   "source": [
    "item = thisdict #Your code here"
   ]
  },
  {
   "cell_type": "code",
   "execution_count": null,
   "id": "6d3630e8",
   "metadata": {},
   "outputs": [],
   "source": []
  }
 ],
 "metadata": {
  "kernelspec": {
   "display_name": "Python 3 (ipykernel)",
   "language": "python",
   "name": "python3"
  },
  "language_info": {
   "codemirror_mode": {
    "name": "ipython",
    "version": 3
   },
   "file_extension": ".py",
   "mimetype": "text/x-python",
   "name": "python",
   "nbconvert_exporter": "python",
   "pygments_lexer": "ipython3",
   "version": "3.9.7"
  }
 },
 "nbformat": 4,
 "nbformat_minor": 5
}
